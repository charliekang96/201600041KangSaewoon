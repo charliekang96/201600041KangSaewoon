{
  "cells": [
    {
      "cell_type": "markdown",
      "metadata": {
        "id": "view-in-github",
        "colab_type": "text"
      },
      "source": [
        "<a href=\"https://colab.research.google.com/github/charliekang96/201600041KangSaewoon/blob/main/201600041_22_09_28.ipynb\" target=\"_parent\"><img src=\"https://colab.research.google.com/assets/colab-badge.svg\" alt=\"Open In Colab\"/></a>"
      ]
    },
    {
      "cell_type": "code",
      "execution_count": null,
      "metadata": {
        "id": "1ZmwiBQA3vF4",
        "colab": {
          "base_uri": "https://localhost:8080/"
        },
        "outputId": "3c8884a3-549a-4e8c-c7e6-60e661a9b3cf"
      },
      "outputs": [
        {
          "output_type": "stream",
          "name": "stdout",
          "text": [
            "자연수 한 개를 입력하시오.32\n",
            "계속 입력하기를 희망할 경우, 자연수 한 개를 추가로 입력하고, 아니라면 0을 입력하시오.31\n",
            "계속 입력하기를 희망할 경우, 자연수 한 개를 추가로 입력하고, 아니라면 0을 입력하시오.56\n",
            "계속 입력하기를 희망할 경우, 자연수 한 개를 추가로 입력하고, 아니라면 0을 입력하시오.0\n",
            "당신이 입력한 숫자는 큰 것부터 순서대로 말한다면 아래와 같습니다\n"
          ]
        },
        {
          "output_type": "execute_result",
          "data": {
            "text/plain": [
              "[56, 32, 31, 0]"
            ]
          },
          "metadata": {},
          "execution_count": 71
        }
      ],
      "source": [
        "#Assignment No.1\n",
        "\n",
        "number = []\n",
        "Answer1 = int(input('자연수 한 개를 입력하시오.'))\n",
        "number = number+ [Answer1]\n",
        "\n",
        "\n",
        "while len(number) < 100 :\n",
        "  for i in range(1, len(number) + 1):\n",
        "    added_number = int(input('계속 입력하기를 희망할 경우, 자연수 한 개를 추가로 입력하고, 아니라면 0을 입력하시오.'))\n",
        "    number.append(added_number)\n",
        "  if added_number == 0:\n",
        "      break\n",
        "\n",
        "if len(number) >= 100:\n",
        "  print('100개는 조금 심하잖아요.')\n",
        "\n",
        "for i in range (len(number)):\n",
        "    for j in range(i + 1, len(number)):\n",
        "        if(number[i] < number[j]):\n",
        "            temp = number[i]\n",
        "            number[i] = number[j]\n",
        "            number[j] = temp\n",
        "\n",
        "print('당신이 입력한 숫자는 큰 것부터 순서대로 말한다면 아래와 같습니다')\n",
        "number\n"
      ]
    },
    {
      "cell_type": "code",
      "execution_count": null,
      "metadata": {
        "id": "WzdbB0UYAYgU",
        "colab": {
          "base_uri": "https://localhost:8080/"
        },
        "outputId": "2afd021a-d594-4a7d-f2a1-693dd637ce9b"
      },
      "outputs": [
        {
          "output_type": "stream",
          "name": "stdout",
          "text": [
            "숫자를 입력하세요.7\n",
            "1\n",
            "* 2\n",
            "** 3\n",
            "*** 4\n",
            "**** 5\n",
            "***** 6\n",
            "****** 7\n"
          ]
        }
      ],
      "source": [
        "#Assignment No.2\n",
        "\n",
        "x = int(input('숫자를 입력하세요.'))\n",
        "\n",
        "if x <= 30:\n",
        "  a=1\n",
        "  print(a)\n",
        "  y='*'\n",
        "  while len(y) + 1 <= x:\n",
        "    a+=1\n",
        "    print(y, a)\n",
        "    y+='*'\n",
        "\n",
        "if x > 30:\n",
        "  print('숫자가 너무 큽니다.')\n",
        "\n"
      ]
    }
  ],
  "metadata": {
    "colab": {
      "collapsed_sections": [],
      "provenance": [],
      "authorship_tag": "ABX9TyOupcZ4p2jHDnMAET2nUp9L",
      "include_colab_link": true
    },
    "kernelspec": {
      "display_name": "Python 3",
      "name": "python3"
    },
    "language_info": {
      "name": "python"
    }
  },
  "nbformat": 4,
  "nbformat_minor": 0
}