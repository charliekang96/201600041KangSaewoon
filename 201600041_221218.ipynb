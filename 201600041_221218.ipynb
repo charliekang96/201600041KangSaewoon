{
  "nbformat": 4,
  "nbformat_minor": 0,
  "metadata": {
    "colab": {
      "provenance": [],
      "authorship_tag": "ABX9TyMxasThwbVm2dsOcgn5Coc9",
      "include_colab_link": true
    },
    "kernelspec": {
      "name": "python3",
      "display_name": "Python 3"
    },
    "language_info": {
      "name": "python"
    }
  },
  "cells": [
    {
      "cell_type": "markdown",
      "metadata": {
        "id": "view-in-github",
        "colab_type": "text"
      },
      "source": [
        "<a href=\"https://colab.research.google.com/github/charliekang96/201600041KangSaewoon/blob/main/201600041_221218.ipynb\" target=\"_parent\"><img src=\"https://colab.research.google.com/assets/colab-badge.svg\" alt=\"Open In Colab\"/></a>"
      ]
    },
    {
      "cell_type": "code",
      "source": [
        "\n",
        "from google.colab import drive \n",
        "drive.mount('/content/drive/') "
      ],
      "metadata": {
        "colab": {
          "base_uri": "https://localhost:8080/"
        },
        "id": "zZ8aOaM5C1BN",
        "outputId": "ae83487d-9d6f-4c05-bb56-b845cbec231a"
      },
      "execution_count": null,
      "outputs": [
        {
          "output_type": "stream",
          "name": "stdout",
          "text": [
            "Drive already mounted at /content/drive/; to attempt to forcibly remount, call drive.mount(\"/content/drive/\", force_remount=True).\n"
          ]
        }
      ]
    },
    {
      "cell_type": "code",
      "source": [
        "pwd"
      ],
      "metadata": {
        "colab": {
          "base_uri": "https://localhost:8080/",
          "height": 35
        },
        "id": "lxn6EGx7C2n7",
        "outputId": "36f051eb-e48b-41db-bca9-cda4e44981c2"
      },
      "execution_count": null,
      "outputs": [
        {
          "output_type": "execute_result",
          "data": {
            "text/plain": [
              "'/content/drive/My Drive/MyData/train'"
            ],
            "application/vnd.google.colaboratory.intrinsic+json": {
              "type": "string"
            }
          },
          "metadata": {},
          "execution_count": 42
        }
      ]
    },
    {
      "cell_type": "code",
      "source": [
        "ls"
      ],
      "metadata": {
        "colab": {
          "base_uri": "https://localhost:8080/"
        },
        "id": "Arf_U7_NDs1W",
        "outputId": "506796c1-4205-47f6-ac8c-48a43ddae81a"
      },
      "execution_count": null,
      "outputs": [
        {
          "output_type": "stream",
          "name": "stdout",
          "text": [
            "\u001b[0m\u001b[01;34mnon_smile\u001b[0m/  \u001b[01;34msmile\u001b[0m/\n"
          ]
        }
      ]
    },
    {
      "cell_type": "code",
      "source": [
        "cd /content/drive/MyDrive/MyData"
      ],
      "metadata": {
        "colab": {
          "base_uri": "https://localhost:8080/"
        },
        "id": "8gtUYfYUDvQO",
        "outputId": "1c198271-2a83-4791-a735-2e94e1313447"
      },
      "execution_count": null,
      "outputs": [
        {
          "output_type": "stream",
          "name": "stdout",
          "text": [
            "/content/drive/MyDrive/MyData\n"
          ]
        }
      ]
    },
    {
      "cell_type": "code",
      "source": [
        "ls"
      ],
      "metadata": {
        "colab": {
          "base_uri": "https://localhost:8080/"
        },
        "id": "AwZpH3qgEPdx",
        "outputId": "357f9411-5672-487b-e7dc-d46538ff8ad3"
      },
      "execution_count": null,
      "outputs": [
        {
          "output_type": "stream",
          "name": "stdout",
          "text": [
            "\u001b[0m\u001b[01;34mtest\u001b[0m/  \u001b[01;34mtrain\u001b[0m/\n"
          ]
        }
      ]
    },
    {
      "cell_type": "code",
      "source": [
        "cd train"
      ],
      "metadata": {
        "colab": {
          "base_uri": "https://localhost:8080/"
        },
        "id": "G3eP6OU3HlMG",
        "outputId": "23111631-73ec-4043-8fc4-f5dab5c5f743"
      },
      "execution_count": null,
      "outputs": [
        {
          "output_type": "stream",
          "name": "stdout",
          "text": [
            "/content/drive/MyDrive/MyData/train\n"
          ]
        }
      ]
    },
    {
      "cell_type": "code",
      "source": [
        "ls"
      ],
      "metadata": {
        "colab": {
          "base_uri": "https://localhost:8080/"
        },
        "id": "mnGr_GoAHnWB",
        "outputId": "9ce836c2-83df-4591-ef27-3502985683a6"
      },
      "execution_count": null,
      "outputs": [
        {
          "output_type": "stream",
          "name": "stdout",
          "text": [
            "\u001b[0m\u001b[01;34mnon_smile\u001b[0m/  \u001b[01;34msmile\u001b[0m/\n"
          ]
        }
      ]
    },
    {
      "cell_type": "code",
      "source": [
        "import numpy as np\n",
        "from skimage.color import rgb2lab, rgb2gray, lab2rgb\n",
        "from skimage.io import imread, imshow\n",
        "import matplotlib.pyplot as plt\n",
        "\n",
        "image_sample= imread('smile/Jamling_Norgay_0001.jpg')\n",
        "fig, ax = plt.subplots(figsize=(9, 16))\n",
        "imshow(image_sample, ax=ax)\n",
        "ax.set_title('smile')"
      ],
      "metadata": {
        "colab": {
          "base_uri": "https://localhost:8080/",
          "height": 688
        },
        "id": "vHntWV4BEU4n",
        "outputId": "5c841ec7-f30f-4fb8-b66c-e3a734355750"
      },
      "execution_count": null,
      "outputs": [
        {
          "output_type": "execute_result",
          "data": {
            "text/plain": [
              "Text(0.5, 1.0, 'smile')"
            ]
          },
          "metadata": {},
          "execution_count": 48
        },
        {
          "output_type": "display_data",
          "data": {
            "text/plain": [
              "<Figure size 648x1152 with 1 Axes>"
            ],
            "image/png": "[encoded data removed]"
          },
          "metadata": {
            "needs_background": "light"
          }
        }
      ]
    },
    {
      "cell_type": "code",
      "source": [
        "image_sample2= imread('non_smile/Adel_Al-Jubeir_0001.jpg')\n",
        "fig, ax = plt.subplots(figsize=(9, 16))\n",
        "imshow(image_sample, ax=ax)\n",
        "ax.set_title('non_smile')"
      ],
      "metadata": {
        "colab": {
          "base_uri": "https://localhost:8080/",
          "height": 688
        },
        "id": "Z5lsEh34E_2a",
        "outputId": "9d54ccf9-4c07-46aa-cff3-492d042bc219"
      },
      "execution_count": null,
      "outputs": [
        {
          "output_type": "execute_result",
          "data": {
            "text/plain": [
              "Text(0.5, 1.0, 'non_smile')"
            ]
          },
          "metadata": {},
          "execution_count": 49
        },
        {
          "output_type": "display_data",
          "data": {
            "text/plain": [
              "<Figure size 648x1152 with 1 Axes>"
            ],
            "image/png": "[encoded data removed]"
          },
          "metadata": {
            "needs_background": "light"
          }
        }
      ]
    },
    {
      "cell_type": "code",
      "source": [
        "image_sample2.shape"
      ],
      "metadata": {
        "colab": {
          "base_uri": "https://localhost:8080/"
        },
        "id": "N4KSSp5FFLAI",
        "outputId": "a357ad36-e098-4096-ad11-89680e721e5b"
      },
      "execution_count": null,
      "outputs": [
        {
          "output_type": "execute_result",
          "data": {
            "text/plain": [
              "(64, 64, 3)"
            ]
          },
          "metadata": {},
          "execution_count": 50
        }
      ]
    },
    {
      "cell_type": "code",
      "source": [
        "cd /"
      ],
      "metadata": {
        "colab": {
          "base_uri": "https://localhost:8080/"
        },
        "id": "KTV84e3WFpPe",
        "outputId": "d0374b31-7291-4a4e-ef81-f6746f9a5e08"
      },
      "execution_count": null,
      "outputs": [
        {
          "output_type": "stream",
          "name": "stdout",
          "text": [
            "/\n"
          ]
        }
      ]
    },
    {
      "cell_type": "code",
      "source": [
        "from tensorflow.keras.preprocessing.image import ImageDataGenerator\n",
        "from tensorflow.keras import Model\n",
        "from tensorflow.keras.models import Sequential\n",
        "from tensorflow.keras.layers import Dense, Dropout, Flatten, Conv2D, MaxPooling2D\n",
        "from keras.optimizers import Adam\n",
        "\n",
        "train_gen = ImageDataGenerator(\n",
        "        rescale=1./255,       \n",
        "        rotation_range=40,     \n",
        "        width_shift_range=0.2, \n",
        "        height_shift_range=0.2, \n",
        "        shear_range=0.2,        \n",
        "        zoom_range=0.2,         \n",
        "        horizontal_flip=True,   \n",
        "    )\n",
        "\n",
        "train = train_gen.flow_from_directory(directory='../content/drive/MyDrive/MyData/train',\n",
        "                                              target_size=(160, 185),  \n",
        "                                              color_mode='rgb',     \n",
        "                                              class_mode='categorical', \n",
        "                                              batch_size=20,\n",
        "                                              shuffle=True)\n",
        "\n",
        "valid_gen = ImageDataGenerator(\n",
        "        rescale=1./255        \n",
        "    ) \n",
        "\n",
        "test = valid_gen.flow_from_directory(directory='../content/drive/MyDrive/MyData/test',\n",
        "                                              target_size=(160, 185), \n",
        "                                              color_mode='rgb',    \n",
        "                                              class_mode='categorical',\n",
        "                                              batch_size=3,\n",
        "                                              shuffle=True)\n",
        "\n",
        "model = Sequential()\n",
        "\n",
        "model.add(Conv2D(32, kernel_size=(3, 3), input_shape=(160, 185, 3), activation='relu'))\n",
        "model.add(Conv2D(64, (3, 3), activation='relu'))\n",
        "model.add(MaxPooling2D(pool_size=(2,2)))\n",
        "model.add(Flatten())\n",
        "model.add(Dense(128,  activation='relu'))\n",
        "model.add(Dropout(0.2))\n",
        "model.add(Dense(2, activation='softmax'))\n",
        "\n",
        "model.compile(loss='categorical_crossentropy',\n",
        "              optimizer='Adam',\n",
        "              metrics=['accuracy'])\n",
        "\n",
        "model.fit_generator(train, validation_data = test, epochs=5 )"
      ],
      "metadata": {
        "colab": {
          "base_uri": "https://localhost:8080/"
        },
        "id": "sT05exaiFyA4",
        "outputId": "d564ecb7-7a4f-4b07-cbf0-559a2e6e5e1e"
      },
      "execution_count": null,
      "outputs": [
        {
          "output_type": "stream",
          "name": "stdout",
          "text": [
            "Found 1203 images belonging to 2 classes.\n",
            "Found 0 images belonging to 0 classes.\n"
          ]
        },
        {
          "output_type": "stream",
          "name": "stderr",
          "text": [
            "<ipython-input-52-9fab6467f4f4>:68: UserWarning: `Model.fit_generator` is deprecated and will be removed in a future version. Please use `Model.fit`, which supports generators.\n",
            "  model.fit_generator(train, validation_data = test, epochs=5 )\n"
          ]
        },
        {
          "output_type": "stream",
          "name": "stdout",
          "text": [
            "Epoch 1/5\n",
            "61/61 [==============================] - 197s 3s/step - loss: 1.4143 - accuracy: 0.5137\n",
            "Epoch 2/5\n",
            "61/61 [==============================] - 160s 3s/step - loss: 0.6934 - accuracy: 0.5004\n",
            "Epoch 3/5\n",
            "61/61 [==============================] - 159s 3s/step - loss: 0.6923 - accuracy: 0.5220\n",
            "Epoch 4/5\n",
            "61/61 [==============================] - 163s 3s/step - loss: 0.6936 - accuracy: 0.4879\n",
            "Epoch 5/5\n",
            "61/61 [==============================] - 159s 3s/step - loss: 0.6932 - accuracy: 0.5129\n"
          ]
        },
        {
          "output_type": "execute_result",
          "data": {
            "text/plain": [
              "<keras.callbacks.History at 0x7f23de54dc10>"
            ]
          },
          "metadata": {},
          "execution_count": 52
        }
      ]
    }
  ]
}