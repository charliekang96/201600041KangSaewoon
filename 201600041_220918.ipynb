{
  "cells": [
    {
      "cell_type": "markdown",
      "metadata": {
        "id": "view-in-github",
        "colab_type": "text"
      },
      "source": [
        "<a href=\"https://colab.research.google.com/github/charliekang96/201600041KangSaewoon/blob/main/201600041_220918.ipynb\" target=\"_parent\"><img src=\"https://colab.research.google.com/assets/colab-badge.svg\" alt=\"Open In Colab\"/></a>"
      ]
    },
    {
      "cell_type": "code",
      "execution_count": null,
      "metadata": {
        "colab": {
          "base_uri": "https://localhost:8080/"
        },
        "id": "689n-XZ2EIw_",
        "outputId": "bc57bfaa-acb8-495b-9734-5bda2000da7a"
      },
      "outputs": [
        {
          "name": "stdout",
          "output_type": "stream",
          "text": [
            "3\n"
          ]
        }
      ],
      "source": [
        "#201600041 강새운\n",
        "#Assignment No.1\n",
        "a=1\n",
        "b=2\n",
        "print(a+b)"
      ]
    },
    {
      "cell_type": "code",
      "execution_count": null,
      "metadata": {
        "colab": {
          "background_save": true,
          "base_uri": "https://localhost:8080/"
        },
        "id": "sjyj0FiQFo32",
        "outputId": "a60c12b6-4b7a-4e83-f7b4-fc15c8d914b1"
      },
      "outputs": [
        {
          "name": "stdout",
          "output_type": "stream",
          "text": [
            "숫자가 너무 큽니다.\n"
          ]
        }
      ],
      "source": [
        "#Assignment No.3 & 4\n",
        "\n",
        "try:\n",
        "  Answer = int(input ('정수를 입력하세요.: '))\n",
        "\n",
        "  # 조건 분기문\n",
        "  if Answer <= 30:\n",
        "    for i in range(1, Answer+1) :\n",
        "      for j in range(1, i+1) :\n",
        "        print(j, end=\"\")\n",
        "      print()\n",
        "  else :\n",
        "      print('숫자가 너무 큽니다.')\n",
        "      \n",
        "\n",
        "except ValueError :\n",
        "  print('정수를 입력하세요.')    "
      ]
    }
  ],
  "metadata": {
    "colab": {
      "collapsed_sections": [],
      "provenance": [],
      "authorship_tag": "ABX9TyOSr5c2Qfli+zWlI9yG9k1U",
      "include_colab_link": true
    },
    "kernelspec": {
      "display_name": "Python 3",
      "name": "python3"
    },
    "language_info": {
      "name": "python"
    }
  },
  "nbformat": 4,
  "nbformat_minor": 0
}