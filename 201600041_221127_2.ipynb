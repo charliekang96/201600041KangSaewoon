{
  "nbformat": 4,
  "nbformat_minor": 0,
  "metadata": {
    "colab": {
      "provenance": [],
      "authorship_tag": "ABX9TyPOkuMjU6goTx40jUDEkkyN",
      "include_colab_link": true
    },
    "kernelspec": {
      "name": "python3",
      "display_name": "Python 3"
    },
    "language_info": {
      "name": "python"
    }
  },
  "cells": [
    {
      "cell_type": "markdown",
      "metadata": {
        "id": "view-in-github",
        "colab_type": "text"
      },
      "source": [
        "<a href=\"https://colab.research.google.com/github/charliekang96/201600041KangSaewoon/blob/main/201600041_221127_2.ipynb\" target=\"_parent\"><img src=\"https://colab.research.google.com/assets/colab-badge.svg\" alt=\"Open In Colab\"/></a>"
      ]
    },
    {
      "cell_type": "code",
      "source": [
        "from tensorflow.keras.models import Sequential\n",
        "from tensorflow.keras.layers import Dense\n",
        "from sklearn.model_selection import KFold\n",
        "from sklearn.metrics import accuracy_score\n",
        "\n",
        "from sklearn.model_selection import train_test_split\n",
        "import pandas as pd\n",
        "\n",
        "\n",
        "targetUrl=\"https://raw.githubusercontent.com/charliekang96/201600041KangSaewoon/main/heart%20disease%20classification%20dataset.csv\"\n",
        "\n",
        "df = pd.read_csv(targetUrl)\n",
        "\n",
        "df.isnull().sum().sort_values(ascending=False).head(20)\n",
        "\n",
        "df = pd.get_dummies(df)\n",
        "\n",
        "df = df.fillna(df.mean())\n",
        "\n",
        "\n",
        "X = df.iloc[:,0:16]\n",
        "y = df.iloc[:,16]\n",
        "\n",
        "k=6\n",
        "\n",
        "kfold = KFold(n_splits=k, shuffle=True)\n",
        "\n",
        "acc_score = []\n",
        "\n",
        "def model_fn():\n",
        "    model = Sequential()\n",
        "    model.add(Dense(24, input_dim=16, activation='relu'))\n",
        "    model.add(Dense(10, activation='relu'))\n",
        "    model.add(Dense(1, activation='sigmoid'))\n",
        "    return model\n",
        "\n",
        "for train_index , test_index in kfold.split(X): \n",
        "    X_train , X_test = X.iloc[train_index,:], X.iloc[test_index,:]\n",
        "    y_train , y_test = y.iloc[train_index], y.iloc[test_index]\n",
        "\n",
        "    model = model_fn()\n",
        "    model.compile(loss='binary_crossentropy', optimizer='adam', metrics=['accuracy'])\n",
        "    history=model.fit(X_train, y_train, epochs=10, batch_size=10, verbose=0) \n",
        "    \n",
        "    accuracy = model.evaluate(X_test, y_test)[1]\n",
        "    acc_score.append(accuracy)\n",
        "\n",
        "avg_acc_score = sum(acc_score)/k\n",
        "\n",
        "print('정확도:', acc_score)\n",
        "print('정확도 평균:', avg_acc_score)"
      ],
      "metadata": {
        "colab": {
          "base_uri": "https://localhost:8080/"
        },
        "id": "RPZuwfLBWT52",
        "outputId": "2ab0fae4-ad80-46ca-dafa-2291cabb51f1"
      },
      "execution_count": null,
      "outputs": [
        {
          "output_type": "stream",
          "name": "stdout",
          "text": [
            "2/2 [==============================] - 1s 10ms/step - loss: 0.1524 - accuracy: 0.9216\n",
            "2/2 [==============================] - 1s 11ms/step - loss: 0.0865 - accuracy: 0.9608\n",
            "2/2 [==============================] - 0s 6ms/step - loss: 0.1476 - accuracy: 0.9020\n",
            "2/2 [==============================] - 0s 9ms/step - loss: 0.1659 - accuracy: 0.9400\n"
          ]
        },
        {
          "output_type": "stream",
          "name": "stderr",
          "text": [
            "WARNING:tensorflow:5 out of the last 9 calls to <function Model.make_test_function.<locals>.test_function at 0x7f0bd6ffe4d0> triggered tf.function retracing. Tracing is expensive and the excessive number of tracings could be due to (1) creating @tf.function repeatedly in a loop, (2) passing tensors with different shapes, (3) passing Python objects instead of tensors. For (1), please define your @tf.function outside of the loop. For (2), @tf.function has reduce_retracing=True option that can avoid unnecessary retracing. For (3), please refer to https://www.tensorflow.org/guide/function#controlling_retracing and https://www.tensorflow.org/api_docs/python/tf/function for  more details.\n"
          ]
        },
        {
          "output_type": "stream",
          "name": "stdout",
          "text": [
            "2/2 [==============================] - 0s 13ms/step - loss: 0.0834 - accuracy: 1.0000\n"
          ]
        },
        {
          "output_type": "stream",
          "name": "stderr",
          "text": [
            "WARNING:tensorflow:6 out of the last 11 calls to <function Model.make_test_function.<locals>.test_function at 0x7f0bd840eb90> triggered tf.function retracing. Tracing is expensive and the excessive number of tracings could be due to (1) creating @tf.function repeatedly in a loop, (2) passing tensors with different shapes, (3) passing Python objects instead of tensors. For (1), please define your @tf.function outside of the loop. For (2), @tf.function has reduce_retracing=True option that can avoid unnecessary retracing. For (3), please refer to https://www.tensorflow.org/guide/function#controlling_retracing and https://www.tensorflow.org/api_docs/python/tf/function for  more details.\n"
          ]
        },
        {
          "output_type": "stream",
          "name": "stdout",
          "text": [
            "2/2 [==============================] - 0s 8ms/step - loss: 0.1383 - accuracy: 0.9400\n",
            "정확도: [0.9215686321258545, 0.9607843160629272, 0.9019607901573181, 0.9399999976158142, 1.0, 0.9399999976158142]\n",
            "정확도 평균: 0.9440522889296213\n"
          ]
        }
      ]
    }
  ]
}