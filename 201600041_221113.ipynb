{
  "nbformat": 4,
  "nbformat_minor": 0,
  "metadata": {
    "colab": {
      "provenance": [],
      "collapsed_sections": [],
      "authorship_tag": "ABX9TyNLrXbPu8iUTp1rRFB0s/Sd",
      "include_colab_link": true
    },
    "kernelspec": {
      "name": "python3",
      "display_name": "Python 3"
    },
    "language_info": {
      "name": "python"
    }
  },
  "cells": [
    {
      "cell_type": "markdown",
      "metadata": {
        "id": "view-in-github",
        "colab_type": "text"
      },
      "source": [
        "<a href=\"https://colab.research.google.com/github/charliekang96/201600041KangSaewoon/blob/main/201600041_221113.ipynb\" target=\"_parent\"><img src=\"https://colab.research.google.com/assets/colab-badge.svg\" alt=\"Open In Colab\"/></a>"
      ]
    },
    {
      "cell_type": "code",
      "execution_count": null,
      "metadata": {
        "colab": {
          "base_uri": "https://localhost:8080/",
          "height": 224
        },
        "id": "ekXsBLXurFzg",
        "outputId": "556cbaee-799c-4a2d-bc7a-ead470261255"
      },
      "outputs": [
        {
          "output_type": "stream",
          "name": "stdout",
          "text": [
            "(610, 5)\n"
          ]
        },
        {
          "output_type": "execute_result",
          "data": {
            "text/plain": [
              "                         drink  Volume (ml)  Calories  Caffeine (mg)    type\n",
              "0                 Costa Coffee   256.993715         0            277  Coffee\n",
              "1  Coffee Friend Brewed Coffee   250.191810         0            145  Coffee\n",
              "2           Hell Energy Coffee   250.191810       150            100  Coffee\n",
              "3           Killer Coffee (AU)   250.191810         0            430  Coffee\n",
              "4                 Nescafe Gold   250.191810         0             66  Coffee"
            ],
            "text/html": [
              "\n",
              "  <div id=\"df-ab536dd9-ca04-4d51-8813-00c2db8d21cb\">\n",
              "    <div class=\"colab-df-container\">\n",
              "      <div>\n",
              "<style scoped>\n",
              "    .dataframe tbody tr th:only-of-type {\n",
              "        vertical-align: middle;\n",
              "    }\n",
              "\n",
              "    .dataframe tbody tr th {\n",
              "        vertical-align: top;\n",
              "    }\n",
              "\n",
              "    .dataframe thead th {\n",
              "        text-align: right;\n",
              "    }\n",
              "</style>\n",
              "<table border=\"1\" class=\"dataframe\">\n",
              "  <thead>\n",
              "    <tr style=\"text-align: right;\">\n",
              "      <th></th>\n",
              "      <th>drink</th>\n",
              "      <th>Volume (ml)</th>\n",
              "      <th>Calories</th>\n",
              "      <th>Caffeine (mg)</th>\n",
              "      <th>type</th>\n",
              "    </tr>\n",
              "  </thead>\n",
              "  <tbody>\n",
              "    <tr>\n",
              "      <th>0</th>\n",
              "      <td>Costa Coffee</td>\n",
              "      <td>256.993715</td>\n",
              "      <td>0</td>\n",
              "      <td>277</td>\n",
              "      <td>Coffee</td>\n",
              "    </tr>\n",
              "    <tr>\n",
              "      <th>1</th>\n",
              "      <td>Coffee Friend Brewed Coffee</td>\n",
              "      <td>250.191810</td>\n",
              "      <td>0</td>\n",
              "      <td>145</td>\n",
              "      <td>Coffee</td>\n",
              "    </tr>\n",
              "    <tr>\n",
              "      <th>2</th>\n",
              "      <td>Hell Energy Coffee</td>\n",
              "      <td>250.191810</td>\n",
              "      <td>150</td>\n",
              "      <td>100</td>\n",
              "      <td>Coffee</td>\n",
              "    </tr>\n",
              "    <tr>\n",
              "      <th>3</th>\n",
              "      <td>Killer Coffee (AU)</td>\n",
              "      <td>250.191810</td>\n",
              "      <td>0</td>\n",
              "      <td>430</td>\n",
              "      <td>Coffee</td>\n",
              "    </tr>\n",
              "    <tr>\n",
              "      <th>4</th>\n",
              "      <td>Nescafe Gold</td>\n",
              "      <td>250.191810</td>\n",
              "      <td>0</td>\n",
              "      <td>66</td>\n",
              "      <td>Coffee</td>\n",
              "    </tr>\n",
              "  </tbody>\n",
              "</table>\n",
              "</div>\n",
              "      <button class=\"colab-df-convert\" onclick=\"convertToInteractive('df-ab536dd9-ca04-4d51-8813-00c2db8d21cb')\"\n",
              "              title=\"Convert this dataframe to an interactive table.\"\n",
              "              style=\"display:none;\">\n",
              "        \n",
              "  <svg xmlns=\"http://www.w3.org/2000/svg\" height=\"24px\"viewBox=\"0 0 24 24\"\n",
              "       width=\"24px\">\n",
              "    <path d=\"M0 0h24v24H0V0z\" fill=\"none\"/>\n",
              "    <path d=\"M18.56 5.44l.94 2.06.94-2.06 2.06-.94-2.06-.94-.94-2.06-.94 2.06-2.06.94zm-11 1L8.5 8.5l.94-2.06 2.06-.94-2.06-.94L8.5 2.5l-.94 2.06-2.06.94zm10 10l.94 2.06.94-2.06 2.06-.94-2.06-.94-.94-2.06-.94 2.06-2.06.94z\"/><path d=\"M17.41 7.96l-1.37-1.37c-.4-.4-.92-.59-1.43-.59-.52 0-1.04.2-1.43.59L10.3 9.45l-7.72 7.72c-.78.78-.78 2.05 0 2.83L4 21.41c.39.39.9.59 1.41.59.51 0 1.02-.2 1.41-.59l7.78-7.78 2.81-2.81c.8-.78.8-2.07 0-2.86zM5.41 20L4 18.59l7.72-7.72 1.47 1.35L5.41 20z\"/>\n",
              "  </svg>\n",
              "      </button>\n",
              "      \n",
              "  <style>\n",
              "    .colab-df-container {\n",
              "      display:flex;\n",
              "      flex-wrap:wrap;\n",
              "      gap: 12px;\n",
              "    }\n",
              "\n",
              "    .colab-df-convert {\n",
              "      background-color: #E8F0FE;\n",
              "      border: none;\n",
              "      border-radius: 50%;\n",
              "      cursor: pointer;\n",
              "      display: none;\n",
              "      fill: #1967D2;\n",
              "      height: 32px;\n",
              "      padding: 0 0 0 0;\n",
              "      width: 32px;\n",
              "    }\n",
              "\n",
              "    .colab-df-convert:hover {\n",
              "      background-color: #E2EBFA;\n",
              "      box-shadow: 0px 1px 2px rgba(60, 64, 67, 0.3), 0px 1px 3px 1px rgba(60, 64, 67, 0.15);\n",
              "      fill: #174EA6;\n",
              "    }\n",
              "\n",
              "    [theme=dark] .colab-df-convert {\n",
              "      background-color: #3B4455;\n",
              "      fill: #D2E3FC;\n",
              "    }\n",
              "\n",
              "    [theme=dark] .colab-df-convert:hover {\n",
              "      background-color: #434B5C;\n",
              "      box-shadow: 0px 1px 3px 1px rgba(0, 0, 0, 0.15);\n",
              "      filter: drop-shadow(0px 1px 2px rgba(0, 0, 0, 0.3));\n",
              "      fill: #FFFFFF;\n",
              "    }\n",
              "  </style>\n",
              "\n",
              "      <script>\n",
              "        const buttonEl =\n",
              "          document.querySelector('#df-ab536dd9-ca04-4d51-8813-00c2db8d21cb button.colab-df-convert');\n",
              "        buttonEl.style.display =\n",
              "          google.colab.kernel.accessAllowed ? 'block' : 'none';\n",
              "\n",
              "        async function convertToInteractive(key) {\n",
              "          const element = document.querySelector('#df-ab536dd9-ca04-4d51-8813-00c2db8d21cb');\n",
              "          const dataTable =\n",
              "            await google.colab.kernel.invokeFunction('convertToInteractive',\n",
              "                                                     [key], {});\n",
              "          if (!dataTable) return;\n",
              "\n",
              "          const docLinkHtml = 'Like what you see? Visit the ' +\n",
              "            '<a target=\"_blank\" href=https://colab.research.google.com/notebooks/data_table.ipynb>data table notebook</a>'\n",
              "            + ' to learn more about interactive tables.';\n",
              "          element.innerHTML = '';\n",
              "          dataTable['output_type'] = 'display_data';\n",
              "          await google.colab.output.renderOutput(dataTable, element);\n",
              "          const docLink = document.createElement('div');\n",
              "          docLink.innerHTML = docLinkHtml;\n",
              "          element.appendChild(docLink);\n",
              "        }\n",
              "      </script>\n",
              "    </div>\n",
              "  </div>\n",
              "  "
            ]
          },
          "metadata": {},
          "execution_count": 5
        }
      ],
      "source": [
        "from tensorflow.keras.models import Sequential\n",
        "from tensorflow.keras.layers import Dense\n",
        "import pandas as pd\n",
        "import matplotlib.pyplot as plt\n",
        "\n",
        "targetUrl_caffeine=\"https://raw.githubusercontent.com/charliekang96/201600041KangSaewoon/main/caffeine.csv\"\n",
        "\n",
        "df = pd.read_csv(targetUrl_caffeine, sep=',')  \n",
        "\n",
        "print(df.shape)\n",
        "df.head()\n",
        "\n",
        "#csv 파일 가져오기\n",
        "\n"
      ]
    },
    {
      "cell_type": "code",
      "source": [
        "\n",
        "X = df.iloc[:,1:4]\n",
        "y = df.iloc[:,4]\n",
        "\n",
        "print(X[0:4])\n",
        "print(y[0:4])\n",
        "\n",
        "#속성을 X, type를 y로"
      ],
      "metadata": {
        "colab": {
          "base_uri": "https://localhost:8080/"
        },
        "id": "tUpGDUfi-43_",
        "outputId": "6a1f6102-8c8f-40dd-9163-d1bf16d6fc85"
      },
      "execution_count": null,
      "outputs": [
        {
          "output_type": "stream",
          "name": "stdout",
          "text": [
            "   Volume (ml)  Calories  Caffeine (mg)\n",
            "0   256.993715         0            277\n",
            "1   250.191810         0            145\n",
            "2   250.191810       150            100\n",
            "3   250.191810         0            430\n",
            "0    Coffee\n",
            "1    Coffee\n",
            "2    Coffee\n",
            "3    Coffee\n",
            "Name: type, dtype: object\n"
          ]
        }
      ]
    },
    {
      "cell_type": "code",
      "source": [
        "df['type'].value_counts()\n",
        "\n",
        "# type 개수 확인해보기"
      ],
      "metadata": {
        "colab": {
          "base_uri": "https://localhost:8080/"
        },
        "id": "QPApeIA0FL0y",
        "outputId": "3d3b03ab-6116-41fa-8536-28aef03cd6e1"
      },
      "execution_count": null,
      "outputs": [
        {
          "output_type": "execute_result",
          "data": {
            "text/plain": [
              "Energy Drinks    219\n",
              "Coffee           173\n",
              "Soft Drinks       90\n",
              "Tea               66\n",
              "Energy Shots      36\n",
              "Water             26\n",
              "Name: type, dtype: int64"
            ]
          },
          "metadata": {},
          "execution_count": 7
        }
      ]
    },
    {
      "cell_type": "code",
      "source": [
        "y = pd.get_dummies(y)\n",
        "\n",
        "print(y[170:180])\n",
        "\n",
        "#원-핫 인코딩 처리"
      ],
      "metadata": {
        "colab": {
          "base_uri": "https://localhost:8080/"
        },
        "id": "5mMKBUQr9zvw",
        "outputId": "0401d7a5-8715-4c8d-8c6d-6e5034715676"
      },
      "execution_count": null,
      "outputs": [
        {
          "output_type": "stream",
          "name": "stdout",
          "text": [
            "     Coffee  Energy Drinks  Energy Shots  Soft Drinks  Tea  Water\n",
            "170       1              0             0            0    0      0\n",
            "171       1              0             0            0    0      0\n",
            "172       1              0             0            0    0      0\n",
            "173       0              1             0            0    0      0\n",
            "174       0              1             0            0    0      0\n",
            "175       0              1             0            0    0      0\n",
            "176       0              1             0            0    0      0\n",
            "177       0              1             0            0    0      0\n",
            "178       0              1             0            0    0      0\n",
            "179       0              1             0            0    0      0\n"
          ]
        }
      ]
    },
    {
      "cell_type": "code",
      "source": [
        "normalization_df = (df - df.mean())/df.std()"
      ],
      "metadata": {
        "colab": {
          "base_uri": "https://localhost:8080/"
        },
        "id": "Hjs-vV64EI_K",
        "outputId": "d31421f5-44a5-459a-c7f3-f70a6abc9015"
      },
      "execution_count": null,
      "outputs": [
        {
          "output_type": "stream",
          "name": "stderr",
          "text": [
            "/usr/local/lib/python3.7/dist-packages/ipykernel_launcher.py:1: FutureWarning: Dropping of nuisance columns in DataFrame reductions (with 'numeric_only=None') is deprecated; in a future version this will raise TypeError.  Select only valid columns before calling the reduction.\n",
            "  \"\"\"Entry point for launching an IPython kernel.\n"
          ]
        }
      ]
    },
    {
      "cell_type": "code",
      "source": [
        "\n",
        "model = Sequential()                                              \n",
        "model.add(Dense(70, input_dim=3, activation='sigmoid'))\n",
        "model.add(Dense(40, activation='relu'))\n",
        "model.add(Dense(6, activation='sigmoid'))\n",
        "\n",
        "\n",
        "\n",
        "model.summary()\n",
        "\n",
        "model.compile(loss='binary_crossentropy', optimizer='adam', metrics=['accuracy'])\n",
        "\n",
        "history=model.fit(X, y, epochs=50, batch_size=20)"
      ],
      "metadata": {
        "id": "iLpSiiqUs_JS",
        "colab": {
          "base_uri": "https://localhost:8080/"
        },
        "outputId": "8873250e-26cd-41d5-b309-960063283d78"
      },
      "execution_count": null,
      "outputs": [
        {
          "output_type": "stream",
          "name": "stdout",
          "text": [
            "Model: \"sequential_4\"\n",
            "_________________________________________________________________\n",
            " Layer (type)                Output Shape              Param #   \n",
            "=================================================================\n",
            " dense_13 (Dense)            (None, 70)                280       \n",
            "                                                                 \n",
            " dense_14 (Dense)            (None, 40)                2840      \n",
            "                                                                 \n",
            " dense_15 (Dense)            (None, 6)                 246       \n",
            "                                                                 \n",
            "=================================================================\n",
            "Total params: 3,366\n",
            "Trainable params: 3,366\n",
            "Non-trainable params: 0\n",
            "_________________________________________________________________\n",
            "Epoch 1/50\n",
            "31/31 [==============================] - 1s 3ms/step - loss: 0.7003 - accuracy: 0.2738\n",
            "Epoch 2/50\n",
            "31/31 [==============================] - 0s 3ms/step - loss: 0.4315 - accuracy: 0.4049\n",
            "Epoch 3/50\n",
            "31/31 [==============================] - 0s 3ms/step - loss: 0.3614 - accuracy: 0.4541\n",
            "Epoch 4/50\n",
            "31/31 [==============================] - 0s 5ms/step - loss: 0.3350 - accuracy: 0.5000\n",
            "Epoch 5/50\n",
            "31/31 [==============================] - 0s 3ms/step - loss: 0.3172 - accuracy: 0.5377\n",
            "Epoch 6/50\n",
            "31/31 [==============================] - 0s 3ms/step - loss: 0.3064 - accuracy: 0.5475\n",
            "Epoch 7/50\n",
            "31/31 [==============================] - 0s 3ms/step - loss: 0.2986 - accuracy: 0.5754\n",
            "Epoch 8/50\n",
            "31/31 [==============================] - 0s 3ms/step - loss: 0.2910 - accuracy: 0.5885\n",
            "Epoch 9/50\n",
            "31/31 [==============================] - 0s 3ms/step - loss: 0.2873 - accuracy: 0.5951\n",
            "Epoch 10/50\n",
            "31/31 [==============================] - 0s 3ms/step - loss: 0.2836 - accuracy: 0.5754\n",
            "Epoch 11/50\n",
            "31/31 [==============================] - 0s 3ms/step - loss: 0.2799 - accuracy: 0.6016\n",
            "Epoch 12/50\n",
            "31/31 [==============================] - 0s 3ms/step - loss: 0.2768 - accuracy: 0.5967\n",
            "Epoch 13/50\n",
            "31/31 [==============================] - 0s 3ms/step - loss: 0.2755 - accuracy: 0.6049\n",
            "Epoch 14/50\n",
            "31/31 [==============================] - 0s 3ms/step - loss: 0.2731 - accuracy: 0.5934\n",
            "Epoch 15/50\n",
            "31/31 [==============================] - 0s 3ms/step - loss: 0.2710 - accuracy: 0.6197\n",
            "Epoch 16/50\n",
            "31/31 [==============================] - 0s 3ms/step - loss: 0.2684 - accuracy: 0.6098\n",
            "Epoch 17/50\n",
            "31/31 [==============================] - 0s 3ms/step - loss: 0.2667 - accuracy: 0.6131\n",
            "Epoch 18/50\n",
            "31/31 [==============================] - 0s 5ms/step - loss: 0.2670 - accuracy: 0.6197\n",
            "Epoch 19/50\n",
            "31/31 [==============================] - 0s 6ms/step - loss: 0.2645 - accuracy: 0.6098\n",
            "Epoch 20/50\n",
            "31/31 [==============================] - 0s 5ms/step - loss: 0.2638 - accuracy: 0.6279\n",
            "Epoch 21/50\n",
            "31/31 [==============================] - 0s 4ms/step - loss: 0.2626 - accuracy: 0.6230\n",
            "Epoch 22/50\n",
            "31/31 [==============================] - 0s 5ms/step - loss: 0.2635 - accuracy: 0.6279\n",
            "Epoch 23/50\n",
            "31/31 [==============================] - 0s 4ms/step - loss: 0.2625 - accuracy: 0.6066\n",
            "Epoch 24/50\n",
            "31/31 [==============================] - 0s 4ms/step - loss: 0.2598 - accuracy: 0.6262\n",
            "Epoch 25/50\n",
            "31/31 [==============================] - 0s 4ms/step - loss: 0.2616 - accuracy: 0.6246\n",
            "Epoch 26/50\n",
            "31/31 [==============================] - 0s 5ms/step - loss: 0.2586 - accuracy: 0.6262\n",
            "Epoch 27/50\n",
            "31/31 [==============================] - 0s 4ms/step - loss: 0.2583 - accuracy: 0.6246\n",
            "Epoch 28/50\n",
            "31/31 [==============================] - 0s 4ms/step - loss: 0.2588 - accuracy: 0.6197\n",
            "Epoch 29/50\n",
            "31/31 [==============================] - 0s 5ms/step - loss: 0.2575 - accuracy: 0.6262\n",
            "Epoch 30/50\n",
            "31/31 [==============================] - 0s 5ms/step - loss: 0.2573 - accuracy: 0.6377\n",
            "Epoch 31/50\n",
            "31/31 [==============================] - 0s 6ms/step - loss: 0.2564 - accuracy: 0.6246\n",
            "Epoch 32/50\n",
            "31/31 [==============================] - 1s 16ms/step - loss: 0.2577 - accuracy: 0.6246\n",
            "Epoch 33/50\n",
            "31/31 [==============================] - 0s 6ms/step - loss: 0.2571 - accuracy: 0.6213\n",
            "Epoch 34/50\n",
            "31/31 [==============================] - 0s 4ms/step - loss: 0.2563 - accuracy: 0.6459\n",
            "Epoch 35/50\n",
            "31/31 [==============================] - 0s 3ms/step - loss: 0.2558 - accuracy: 0.6246\n",
            "Epoch 36/50\n",
            "31/31 [==============================] - 0s 2ms/step - loss: 0.2548 - accuracy: 0.6344\n",
            "Epoch 37/50\n",
            "31/31 [==============================] - 0s 3ms/step - loss: 0.2520 - accuracy: 0.6328\n",
            "Epoch 38/50\n",
            "31/31 [==============================] - 0s 3ms/step - loss: 0.2544 - accuracy: 0.6197\n",
            "Epoch 39/50\n",
            "31/31 [==============================] - 0s 3ms/step - loss: 0.2550 - accuracy: 0.6246\n",
            "Epoch 40/50\n",
            "31/31 [==============================] - 0s 3ms/step - loss: 0.2521 - accuracy: 0.6361\n",
            "Epoch 41/50\n",
            "31/31 [==============================] - 0s 2ms/step - loss: 0.2540 - accuracy: 0.6295\n",
            "Epoch 42/50\n",
            "31/31 [==============================] - 0s 3ms/step - loss: 0.2530 - accuracy: 0.6246\n",
            "Epoch 43/50\n",
            "31/31 [==============================] - 0s 3ms/step - loss: 0.2503 - accuracy: 0.6344\n",
            "Epoch 44/50\n",
            "31/31 [==============================] - 0s 3ms/step - loss: 0.2500 - accuracy: 0.6344\n",
            "Epoch 45/50\n",
            "31/31 [==============================] - 0s 3ms/step - loss: 0.2515 - accuracy: 0.6410\n",
            "Epoch 46/50\n",
            "31/31 [==============================] - 0s 3ms/step - loss: 0.2491 - accuracy: 0.6361\n",
            "Epoch 47/50\n",
            "31/31 [==============================] - 0s 3ms/step - loss: 0.2477 - accuracy: 0.6295\n",
            "Epoch 48/50\n",
            "31/31 [==============================] - 0s 3ms/step - loss: 0.2511 - accuracy: 0.6197\n",
            "Epoch 49/50\n",
            "31/31 [==============================] - 0s 3ms/step - loss: 0.2506 - accuracy: 0.6311\n",
            "Epoch 50/50\n",
            "31/31 [==============================] - 0s 3ms/step - loss: 0.2492 - accuracy: 0.6328\n"
          ]
        }
      ]
    },
    {
      "cell_type": "code",
      "source": [
        "import numpy as np\n",
        "\n",
        "y_loss = history.history['loss']\n",
        "\n",
        "x_len = np.arange(len(y_loss))\n",
        "\n",
        "plt.plot(x_len,y_loss)"
      ],
      "metadata": {
        "id": "XfhGiZTVAbqg",
        "colab": {
          "base_uri": "https://localhost:8080/",
          "height": 282
        },
        "outputId": "0304b5e1-7856-4eb8-ab59-db4530ef3f5a"
      },
      "execution_count": null,
      "outputs": [
        {
          "output_type": "execute_result",
          "data": {
            "text/plain": [
              "[<matplotlib.lines.Line2D at 0x7f8f100e7bd0>]"
            ]
          },
          "metadata": {},
          "execution_count": 18
        },
        {
          "output_type": "display_data",
          "data": {
            "text/plain": [
              "<Figure size 432x288 with 1 Axes>"
            ],
            "image/png": "[encoded data removed]"
          },
          "metadata": {
            "needs_background": "light"
          }
        }
      ]
    },
    {
      "cell_type": "code",
      "source": [
        "y_accuracy = history.history['accuracy']\n",
        "\n",
        "x_len = np.arange(len(y_accuracy))\n",
        "\n",
        "plt.plot(x_len,y_accuracy)"
      ],
      "metadata": {
        "id": "gOh-vFsGEvRn",
        "colab": {
          "base_uri": "https://localhost:8080/",
          "height": 282
        },
        "outputId": "358ec7a8-410e-4eb5-ca21-941b6c834690"
      },
      "execution_count": null,
      "outputs": [
        {
          "output_type": "execute_result",
          "data": {
            "text/plain": [
              "[<matplotlib.lines.Line2D at 0x7f8f101dded0>]"
            ]
          },
          "metadata": {},
          "execution_count": 19
        },
        {
          "output_type": "display_data",
          "data": {
            "text/plain": [
              "<Figure size 432x288 with 1 Axes>"
            ],
            "image/png": "[encoded data removed]"
          },
          "metadata": {
            "needs_background": "light"
          }
        }
      ]
    }
  ]
}